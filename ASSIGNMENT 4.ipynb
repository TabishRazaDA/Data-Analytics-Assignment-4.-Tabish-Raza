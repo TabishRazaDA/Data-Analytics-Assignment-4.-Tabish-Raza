{
 "cells": [
  {
   "cell_type": "markdown",
   "id": "a2ecf81a-cd52-4761-9685-7071fd8c944b",
   "metadata": {},
   "source": [
    "## MUHAMMAD TABISH RAZA"
   ]
  },
  {
   "cell_type": "code",
   "execution_count": 1,
   "id": "f4a0f40a-8ce3-4ea6-a81b-f8a1b1874110",
   "metadata": {},
   "outputs": [
    {
     "name": "stdout",
     "output_type": "stream",
     "text": [
      "mother! you are invited to a dinner\n",
      "brother! you are invited to a dinner\n",
      "sister! you are invited to a dinner\n",
      "father! you are invited to a dinner\n"
     ]
    }
   ],
   "source": [
    "#4.1\n",
    "guest = 'mother'\n",
    "guest = 'father'\n",
    "guest = 'brother'\n",
    "guest = 'sister'\n",
    "if guest : 'mother' or 'father' or 'brother' or 'sister' \n",
    "print(\"mother! you are invited to a dinner\")\n",
    "print(\"brother! you are invited to a dinner\")\n",
    "print(\"sister! you are invited to a dinner\")\n",
    "print(\"father! you are invited to a dinner\")"
   ]
  },
  {
   "cell_type": "code",
   "execution_count": 2,
   "id": "d95ed9db-9f9c-411c-96a9-9413e5b9f182",
   "metadata": {},
   "outputs": [
    {
     "name": "stdout",
     "output_type": "stream",
     "text": [
      "father is not coming to dinner\n",
      "mother! you are invited to a dinner\n",
      "brother! you are invited to a dinner\n",
      "sister! you are invited to a dinner\n",
      "sister_2! you are invited to a dinner\n"
     ]
    }
   ],
   "source": [
    "#4.2\n",
    "guest = 'mother'\n",
    "guest = 'father'\n",
    "guest = 'brother'\n",
    "guest = 'sister'\n",
    "guest = 'sister_2'\n",
    "print('father is not coming to dinner')\n",
    "if guest : 'mother' or 'brother' or 'sister' or 'sister_2'\n",
    "print(\"mother! you are invited to a dinner\")\n",
    "print(\"brother! you are invited to a dinner\")\n",
    "print(\"sister! you are invited to a dinner\")\n",
    "print(\"sister_2! you are invited to a dinner\")"
   ]
  },
  {
   "cell_type": "code",
   "execution_count": 3,
   "id": "466db9a1-0849-4e4b-81c1-84183336b096",
   "metadata": {},
   "outputs": [
    {
     "name": "stdout",
     "output_type": "stream",
     "text": [
      "father is not coming to dinner\n",
      "adding more guests as the bigger dinner table is found\n",
      "mother! you are invited to a dinner\n",
      "brother! you are invited to a dinner\n",
      "sister! you are invited to a dinner\n",
      "sister_2! you are invited to a dinner\n",
      "cousin! you are invited to a dinner\n",
      "friend! you are invited to a dinner\n",
      "friend_2! you are invited to a dinner\n"
     ]
    }
   ],
   "source": [
    "#4.3\n",
    "guest = ['mother', 'father', 'brother', 'sister', 'sister_2']\n",
    "print('father is not coming to dinner')\n",
    "print('adding more guests as the bigger dinner table is found')\n",
    "guest.insert(0,\"friend\")\n",
    "guest.insert(3, \"friend_2\")\n",
    "guest.append(\"cousin\")\n",
    "if guest : 'mother' or 'brother' or 'sister' or 'sister_2' or 'friend' or 'friend_2' or 'cousin'\n",
    "print(\"mother! you are invited to a dinner\")\n",
    "print(\"brother! you are invited to a dinner\")\n",
    "print(\"sister! you are invited to a dinner\")\n",
    "print(\"sister_2! you are invited to a dinner\")\n",
    "print(\"cousin! you are invited to a dinner\")\n",
    "print(\"friend! you are invited to a dinner\")\n",
    "print(\"friend_2! you are invited to a dinner\")\n"
   ]
  },
  {
   "cell_type": "code",
   "execution_count": 4,
   "id": "0f832d49-4288-40e1-89e6-6cd2f1edf8c1",
   "metadata": {},
   "outputs": [
    {
     "data": {
      "text/plain": [
       "['friend',\n",
       " 'mother',\n",
       " 'father',\n",
       " 'friend_2',\n",
       " 'brother',\n",
       " 'sister',\n",
       " 'sister_2',\n",
       " 'cousin']"
      ]
     },
     "execution_count": 4,
     "metadata": {},
     "output_type": "execute_result"
    }
   ],
   "source": [
    "guest"
   ]
  },
  {
   "cell_type": "code",
   "execution_count": 6,
   "id": "e8d03c83-6f4e-4b4a-8f47-da39141676c0",
   "metadata": {},
   "outputs": [
    {
     "name": "stdout",
     "output_type": "stream",
     "text": [
      "Bigger dinner table isn't available at that particular time, extending some guests\n",
      "sorry cousin! you are not invited\n",
      "sorry sister_2! you are not invited\n",
      "sorry brother! you are not invited\n",
      "sorry friend_2! you are not invited\n",
      "sorry father! you are not invited\n",
      "sorry friend!you are not invited\n",
      "mother and sister! you are still invited for dinner.\n"
     ]
    },
    {
     "ename": "NameError",
     "evalue": "name 'guest' is not defined",
     "output_type": "error",
     "traceback": [
      "\u001b[1;31m---------------------------------------------------------------------------\u001b[0m",
      "\u001b[1;31mNameError\u001b[0m                                 Traceback (most recent call last)",
      "Cell \u001b[1;32mIn[6], line 17\u001b[0m\n\u001b[0;32m     15\u001b[0m \u001b[38;5;28mprint\u001b[39m(\u001b[38;5;124m\"\u001b[39m\u001b[38;5;124mmother and sister! you are still invited for dinner.\u001b[39m\u001b[38;5;124m\"\u001b[39m)\n\u001b[0;32m     16\u001b[0m \u001b[38;5;28;01mdel\u001b[39;00m guest\n\u001b[1;32m---> 17\u001b[0m guest\n",
      "\u001b[1;31mNameError\u001b[0m: name 'guest' is not defined"
     ]
    }
   ],
   "source": [
    "#4.4\n",
    "print(\"Bigger dinner table isn't available at that particular time, extending some guests\")\n",
    "guest.pop(7)\n",
    "print(\"sorry cousin! you are not invited\")\n",
    "guest.pop(6)\n",
    "print(\"sorry sister_2! you are not invited\")\n",
    "guest.pop(4)\n",
    "print(\"sorry brother! you are not invited\")\n",
    "guest.pop(3)\n",
    "print(\"sorry friend_2! you are not invited\")\n",
    "guest.pop(2)\n",
    "print(\"sorry father! you are not invited\")\n",
    "guest.pop(0)\n",
    "print(\"sorry friend!you are not invited\")\n",
    "print(\"mother and sister! you are still invited for dinner.\")\n",
    "del guest\n",
    "guest"
   ]
  },
  {
   "cell_type": "code",
   "execution_count": 24,
   "id": "20e832b1-8cd1-48e0-9835-fad94f5a9ed3",
   "metadata": {},
   "outputs": [
    {
     "name": "stdout",
     "output_type": "stream",
     "text": [
      "A+\n"
     ]
    }
   ],
   "source": [
    "#3.7\n",
    "URDU = 57\n",
    "ENGLISH = 60\n",
    "MATH = 59\n",
    "SCIENCE = 65\n",
    "ISLAMIAT = 58\n",
    "OBT = URDU + ENGLISH + MATH + SCIENCE + ISLAMIAT\n",
    "TOTAL = 75*5\n",
    "PERCENTAGE = (OBT/TOTAL) * 100\n",
    "if PERCENTAGE : 80\n",
    "print(\"A+\")"
   ]
  },
  {
   "cell_type": "code",
   "execution_count": 6,
   "id": "8fc6a172-638a-4cb2-b830-b8be291db0e3",
   "metadata": {},
   "outputs": [
    {
     "data": {
      "text/plain": [
       "'58'"
      ]
     },
     "execution_count": 6,
     "metadata": {},
     "output_type": "execute_result"
    }
   ],
   "source": [
    "#4.5\n",
    "marks = ['57', '60', '59', '65', '58']\n",
    "#Indexing\n",
    "marks[-1]"
   ]
  },
  {
   "cell_type": "code",
   "execution_count": 8,
   "id": "5024bdf7-9b2f-4999-9be1-8c80f899c46b",
   "metadata": {},
   "outputs": [
    {
     "data": {
      "text/plain": [
       "'59'"
      ]
     },
     "execution_count": 8,
     "metadata": {},
     "output_type": "execute_result"
    }
   ],
   "source": [
    "#Indexing\n",
    "marks[2]"
   ]
  },
  {
   "cell_type": "code",
   "execution_count": 7,
   "id": "f71aff99-5fce-44e5-8ef6-02d553bcc8b4",
   "metadata": {},
   "outputs": [
    {
     "data": {
      "text/plain": [
       "['60', '59', '65']"
      ]
     },
     "execution_count": 7,
     "metadata": {},
     "output_type": "execute_result"
    }
   ],
   "source": [
    "#Slicing\n",
    "marks[1:4]"
   ]
  },
  {
   "cell_type": "code",
   "execution_count": 11,
   "id": "71917cfe-23bb-4731-98c8-39ca613c8182",
   "metadata": {},
   "outputs": [
    {
     "data": {
      "text/plain": [
       "['57', '60', '59', '65']"
      ]
     },
     "execution_count": 11,
     "metadata": {},
     "output_type": "execute_result"
    }
   ],
   "source": [
    "#Slicing\n",
    "marks[:4]"
   ]
  },
  {
   "cell_type": "code",
   "execution_count": null,
   "id": "7eca6eb0-e1e4-4883-8043-495d5750920f",
   "metadata": {},
   "outputs": [],
   "source": []
  }
 ],
 "metadata": {
  "kernelspec": {
   "display_name": "Python 3 (ipykernel)",
   "language": "python",
   "name": "python3"
  },
  "language_info": {
   "codemirror_mode": {
    "name": "ipython",
    "version": 3
   },
   "file_extension": ".py",
   "mimetype": "text/x-python",
   "name": "python",
   "nbconvert_exporter": "python",
   "pygments_lexer": "ipython3",
   "version": "3.12.4"
  }
 },
 "nbformat": 4,
 "nbformat_minor": 5
}
