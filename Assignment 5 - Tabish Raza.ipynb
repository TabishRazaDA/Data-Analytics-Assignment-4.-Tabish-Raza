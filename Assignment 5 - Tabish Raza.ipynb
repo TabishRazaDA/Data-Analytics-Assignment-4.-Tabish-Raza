{
 "cells": [
  {
   "cell_type": "markdown",
   "id": "47be0ec7-b556-44fd-a570-ca863c920a47",
   "metadata": {},
   "source": [
    "# MOHAMMAD TABISH RAZA"
   ]
  },
  {
   "cell_type": "markdown",
   "id": "9112a3d8-5279-4425-a0df-2d60c36028f5",
   "metadata": {},
   "source": [
    "## ASSIGNMENT # 5"
   ]
  },
  {
   "cell_type": "code",
   "execution_count": 1,
   "id": "e022da22-a0f3-4b5e-a580-77378a4d87f3",
   "metadata": {},
   "outputs": [
    {
     "data": {
      "text/plain": [
       "('Employee_1', 'Employee_2', 'Employee_3', 'Employee_4')"
      ]
     },
     "execution_count": 1,
     "metadata": {},
     "output_type": "execute_result"
    }
   ],
   "source": [
    "#5.1\n",
    "Employees = ('Employee_1','Employee_2','Employee_3','Employee_4')\n",
    "Employee_1 = ('id' == '1111' , 'name' == 'abcd' , 'department' == 'IT'),\n",
    "Employee_2 = ('id' == '2222' , 'name' == 'efgh' , 'department' == 'Admin'),\n",
    "Employee_3 = ('id' == '3333' , 'name' == 'ijkl' , 'department' == 'HR'),\n",
    "Employee_4 = ('id' == '4444' , 'name' == 'mnop' , 'department' == 'Processing'),\n",
    "Employees"
   ]
  },
  {
   "cell_type": "code",
   "execution_count": 2,
   "id": "82f668cc-ed16-4ac8-8cfc-17f44b872a86",
   "metadata": {},
   "outputs": [
    {
     "data": {
      "text/plain": [
       "'Employee_1'"
      ]
     },
     "execution_count": 2,
     "metadata": {},
     "output_type": "execute_result"
    }
   ],
   "source": [
    "Employees[0]"
   ]
  },
  {
   "cell_type": "code",
   "execution_count": 3,
   "id": "6da264c9-71b7-4676-8721-ec04b886f134",
   "metadata": {},
   "outputs": [
    {
     "data": {
      "text/plain": [
       "'Employee_2'"
      ]
     },
     "execution_count": 3,
     "metadata": {},
     "output_type": "execute_result"
    }
   ],
   "source": [
    "Employees[1]"
   ]
  },
  {
   "cell_type": "code",
   "execution_count": 4,
   "id": "9c7a3b08-e4cc-4e5a-a85d-d23bd24800f9",
   "metadata": {},
   "outputs": [
    {
     "data": {
      "text/plain": [
       "'Banana'"
      ]
     },
     "execution_count": 4,
     "metadata": {},
     "output_type": "execute_result"
    }
   ],
   "source": [
    "#5.2\n",
    "Items = ('Apple','Mango','Banana','Orange','Grapes')\n",
    "Apple = ('Item_id' == 12 , 'Quantity' == 23)\n",
    "Mango = ('Item_id' == 34 , 'Quantity' == 21)\n",
    "Banana = ('Item_id' == 56 , 'Quantity' == 15)\n",
    "Orange = ('Item_id' == 78 , 'Quantity' == 19)\n",
    "Grapes = ('Item_id' == 90 , 'Quantity' == 10)\n",
    "Items[2]"
   ]
  },
  {
   "cell_type": "code",
   "execution_count": 5,
   "id": "d6f0ebbd-a965-4ac1-bb42-f45644e093ea",
   "metadata": {},
   "outputs": [
    {
     "data": {
      "text/plain": [
       "'Job_Time'"
      ]
     },
     "execution_count": 5,
     "metadata": {},
     "output_type": "execute_result"
    }
   ],
   "source": [
    "#5.3\n",
    "Schedule = ('Class','Job_Time')\n",
    "Class = ('Date'== 17-8-24 , 'Time' == '16:OO' , 'End_Time' == '18:00')\n",
    "Job_Time = ('Date'== 17-8-24 , 'Time' == '07:OO' , 'End_Time' == '15:15')\n",
    "Schedule[1]\n"
   ]
  },
  {
   "cell_type": "code",
   "execution_count": 6,
   "id": "0d870661-e757-4a99-bbb4-0d2b220dc0bd",
   "metadata": {},
   "outputs": [
    {
     "data": {
      "text/plain": [
       "{'name': 'xyz', 'age': '24', 'Designation': 'Asst_Engineer'}"
      ]
     },
     "execution_count": 6,
     "metadata": {},
     "output_type": "execute_result"
    }
   ],
   "source": [
    "#5.4\n",
    "Empolyee_Details = {\n",
    "    'Emp_1' : {'name' : 'qwerty' , 'age' : '21' , 'Designation' : 'Engineer'},\n",
    "    'Emp_2' : {'name' : 'xyz' , 'age' : '24' , 'Designation' : 'Asst_Engineer'},\n",
    "    'Emp_3' : {'name' : 'abc' , 'age' : '27' , 'Designation' : 'Manager'}\n",
    "}\n",
    "Empolyee_Details['Emp_2']\n"
   ]
  },
  {
   "cell_type": "code",
   "execution_count": 7,
   "id": "609e2164-05c7-413a-b746-2f58b4cf5082",
   "metadata": {},
   "outputs": [
    {
     "data": {
      "text/plain": [
       "[{'Maths': [56]}, {'English': [55]}, {'Urdu': [58]}, {'Islamiyat': [54]}]"
      ]
     },
     "execution_count": 7,
     "metadata": {},
     "output_type": "execute_result"
    }
   ],
   "source": [
    "#5.5\n",
    "Student_Score = [\n",
    "    {\n",
    "    'Maths' : [56],\n",
    "    },\n",
    "    {\n",
    "    'English' : [55],\n",
    "},\n",
    " {   'Urdu' : [58],\n",
    " },\n",
    "  {  'Islamiyat' : [54],\n",
    "}\n",
    "]\n",
    "Student_Score"
   ]
  },
  {
   "cell_type": "code",
   "execution_count": 8,
   "id": "9f326628-d55c-4d88-a562-eb2d72a94dd2",
   "metadata": {},
   "outputs": [
    {
     "data": {
      "text/plain": [
       "['Search_Engine_Optimization']"
      ]
     },
     "execution_count": 8,
     "metadata": {},
     "output_type": "execute_result"
    }
   ],
   "source": [
    "#5.6\n",
    "Projects = {\n",
    "    'Project1' : ['FaceBook_Marketing','Instagram_Marketing'],\n",
    "    'Project2' : ['Search_Engine_Optimization'],\n",
    "    'Project3' : ['SEM']\n",
    "}\n",
    "Projects['Project2']"
   ]
  },
  {
   "cell_type": "code",
   "execution_count": 9,
   "id": "7c5b8af0-4dc4-434c-b9be-ebe4a242eed2",
   "metadata": {},
   "outputs": [
    {
     "data": {
      "text/plain": [
       "{'Listening', 'Reading', 'Speaking', 'writing'}"
      ]
     },
     "execution_count": 9,
     "metadata": {},
     "output_type": "execute_result"
    }
   ],
   "source": [
    "#5.7\n",
    "Courses = {\n",
    "    'Data_Analytics' : {'Python','Excel','SQL','Power_Bi'},\n",
    "    'Dig_Marketing' : {'Fb_Marketing','Insta_Marketing','Google_ads'},\n",
    "    'IELTS' : {'Speaking','writing','Reading','Listening'}\n",
    "}\n",
    "Courses['IELTS']"
   ]
  },
  {
   "cell_type": "code",
   "execution_count": 10,
   "id": "58936e89-a044-4882-8521-251aa65608e4",
   "metadata": {},
   "outputs": [
    {
     "name": "stdout",
     "output_type": "stream",
     "text": [
      "['Biscuits']\n"
     ]
    }
   ],
   "source": [
    "#5.8\n",
    "#This one is done with the help of chatgpt, kindly explain and solve this problem in class\n",
    "Product_List = [\n",
    " ('Biscuits', 20),\n",
    " ('Nimco', 40),\n",
    " ('Chips', 50)\n",
    "]\n",
    "In_Range = 40\n",
    "Affordable_Products = [name for name, price in Product_List if price < In_Range]\n",
    "print(Affordable_Products)"
   ]
  },
  {
   "cell_type": "code",
   "execution_count": null,
   "id": "8ef974eb-f399-4b7c-9543-41f02c44677b",
   "metadata": {},
   "outputs": [],
   "source": [
    "\n"
   ]
  },
  {
   "cell_type": "code",
   "execution_count": null,
   "id": "1ae6dddc-9fab-4cb2-8632-cfe2d2cda9e0",
   "metadata": {},
   "outputs": [],
   "source": []
  }
 ],
 "metadata": {
  "kernelspec": {
   "display_name": "Python 3 (ipykernel)",
   "language": "python",
   "name": "python3"
  },
  "language_info": {
   "codemirror_mode": {
    "name": "ipython",
    "version": 3
   },
   "file_extension": ".py",
   "mimetype": "text/x-python",
   "name": "python",
   "nbconvert_exporter": "python",
   "pygments_lexer": "ipython3",
   "version": "3.12.4"
  }
 },
 "nbformat": 4,
 "nbformat_minor": 5
}
